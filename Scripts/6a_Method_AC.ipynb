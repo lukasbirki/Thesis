{
 "cells": [
  {
   "cell_type": "markdown",
   "metadata": {},
   "source": [
    "# Data Wrangling Plenar Protokols"
   ]
  },
  {
   "cell_type": "markdown",
   "metadata": {},
   "source": [
    "##https://medium.com/@bedigunjit/simple-guide-to-text-classification-nlp-using-svm-and-naive-bayes-with-python-421db3a72d34"
   ]
  },
  {
   "cell_type": "code",
   "execution_count": 2,
   "metadata": {},
   "outputs": [
    {
     "name": "stderr",
     "output_type": "stream",
     "text": [
      "[nltk_data] Downloading package stopwords to /Users/lukas/nltk_data...\n",
      "[nltk_data]   Package stopwords is already up-to-date!\n"
     ]
    }
   ],
   "source": [
    "import pandas as pd\n",
    "import nltk \n",
    "import numpy as np\n",
    "import sklearn.datasets\n",
    "from nltk.tokenize import word_tokenize\n",
    "from nltk import pos_tag\n",
    "from nltk.corpus import stopwords\n",
    "from nltk.stem import WordNetLemmatizer\n",
    "from sklearn.preprocessing import LabelEncoder\n",
    "from collections import defaultdict\n",
    "from nltk.corpus import wordnet as wn\n",
    "from sklearn.feature_extraction.text import TfidfVectorizer\n",
    "from sklearn import model_selection, naive_bayes, svm\n",
    "from sklearn.metrics import accuracy_score\n",
    "pd.set_option('display.max_columns', None)\n",
    "from sklearn.feature_extraction.text import CountVectorizer\n",
    "from sklearn.feature_extraction.text import TfidfTransformer\n",
    "from nltk.corpus import stopwords\n",
    "nltk.download('stopwords')\n",
    "german_stop_words = stopwords.words('german')"
   ]
  },
  {
   "cell_type": "code",
   "execution_count": 11,
   "metadata": {},
   "outputs": [
    {
     "name": "stdout",
     "output_type": "stream",
     "text": [
      "326\n",
      "18240\n"
     ]
    }
   ],
   "source": [
    "df_test = pd.read_csv('/Users/lukas/OneDrive - University of Warwick/Dokumente/Uni/Thesis/Thesis/data/df_base.csv')\n",
    "df_train = pd.read_csv('/Users/lukas/OneDrive - University of Warwick/Dokumente/Uni/Thesis/Thesis/data/df_train.csv')\n",
    "\n",
    "df_test = df_test.sample(frac = 1)\n",
    "df_train = df_train.sample(frac = 1)\n",
    "\n",
    "print(len(df_test))\n",
    "print(len(df_train))\n",
    "\n",
    "X_train = df_train['speechContent']\n",
    "y_train = df_train['Ruling_Party']\n",
    "X_test = df_test['speechContent']\n",
    "Y_test = df_test['Ruling_Party']"
   ]
  },
  {
   "cell_type": "code",
   "execution_count": 12,
   "metadata": {},
   "outputs": [],
   "source": [
    "count_vect = CountVectorizer(stop_words = german_stop_words)\n",
    "\n",
    "# Fit and tranform with X_train\n",
    "count_vector = sklearn.feature_extraction.text.CountVectorizer(stop_words = german_stop_words)\n",
    "word_counts = count_vector.fit_transform(X_train)\n",
    "tf_transformer = sklearn.feature_extraction.text.TfidfTransformer(use_idf=True)\n",
    "X_train = tf_transformer.fit_transform(word_counts)\n",
    "\n",
    "SMV = svm.SVC(C=1.0, kernel='linear', degree=3, gamma='auto', probability=True)\n",
    "SGD = sklearn.linear_model.SGDClassifier(loss = 'log', penalty='l2')\n",
    "\n",
    "SMV.fit(X_train, y_train)\n",
    "SGD.fit(X_train, y_train)\n",
    "\n",
    "# Transform X_test\n",
    "test_word_counts = count_vector.transform(X_test) \n",
    "ready_to_be_predicted = tf_transformer.transform(test_word_counts)"
   ]
  },
  {
   "cell_type": "markdown",
   "metadata": {},
   "source": [
    "Transforming Term Frequency matrix"
   ]
  },
  {
   "cell_type": "code",
   "execution_count": 13,
   "metadata": {},
   "outputs": [
    {
     "name": "stdout",
     "output_type": "stream",
     "text": [
      "SVM Accuracy Score ->  90.1840490797546\n",
      "SGD Accuracy Score ->  86.80981595092024\n"
     ]
    }
   ],
   "source": [
    "# predict the labels on validation dataset\n",
    "predictions_SVM = SMV.predict(ready_to_be_predicted)\n",
    "predictions_SGD = SGD.predict(ready_to_be_predicted)\n",
    "# Use accuracy_score function to get tghe accuracy\n",
    "print(\"SVM Accuracy Score -> \",accuracy_score(predictions_SVM, Y_test)*100)\n",
    "print(\"SGD Accuracy Score -> \",accuracy_score(predictions_SGD, Y_test)*100)"
   ]
  },
  {
   "cell_type": "code",
   "execution_count": 16,
   "metadata": {},
   "outputs": [],
   "source": [
    "class_probabilities_SMV = SMV.predict_proba(ready_to_be_predicted)\n",
    "class_probabilities_SGD = SGD.predict_proba(ready_to_be_predicted)"
   ]
  },
  {
   "cell_type": "code",
   "execution_count": 17,
   "metadata": {},
   "outputs": [],
   "source": [
    "confidence_0_SMV = class_probabilities_SMV.transpose()[0]\n",
    "confidence_1_SMV = class_probabilities_SMV.transpose()[1]\n",
    "confidence_0_SGD = class_probabilities_SGD.transpose()[0]\n",
    "confidence_1_SGD = class_probabilities_SGD.transpose()[1]"
   ]
  },
  {
   "cell_type": "code",
   "execution_count": 18,
   "metadata": {},
   "outputs": [],
   "source": [
    "df_test['SMV_predictions'] = predictions_SVM\n",
    "df_test['SGD_predictions'] = predictions_SGD\n",
    "df_test['Confidence_0_SMV'] = confidence_0_SMV\n",
    "df_test['Confidence_1_SMV'] = confidence_1_SMV\n"
   ]
  },
  {
   "cell_type": "code",
   "execution_count": 19,
   "metadata": {},
   "outputs": [],
   "source": [
    "df_test.to_csv('/Users/lukas/OneDrive - University of Warwick/Dokumente/Uni/Thesis/Thesis/data/df_base_ML.csv')"
   ]
  },
  {
   "cell_type": "code",
   "execution_count": null,
   "metadata": {},
   "outputs": [],
   "source": [
    "df_test"
   ]
  },
  {
   "cell_type": "code",
   "execution_count": null,
   "metadata": {},
   "outputs": [],
   "source": []
  }
 ],
 "metadata": {
  "kernelspec": {
   "display_name": "Python 3",
   "language": "python",
   "name": "python3"
  },
  "language_info": {
   "codemirror_mode": {
    "name": "ipython",
    "version": 3
   },
   "file_extension": ".py",
   "mimetype": "text/x-python",
   "name": "python",
   "nbconvert_exporter": "python",
   "pygments_lexer": "ipython3",
   "version": "3.8.3"
  },
  "toc": {
   "base_numbering": 1,
   "nav_menu": {},
   "number_sections": true,
   "sideBar": true,
   "skip_h1_title": false,
   "title_cell": "Table of Contents",
   "title_sidebar": "Contents",
   "toc_cell": false,
   "toc_position": {},
   "toc_section_display": true,
   "toc_window_display": false
  }
 },
 "nbformat": 4,
 "nbformat_minor": 4
}
